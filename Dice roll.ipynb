{
 "cells": [
  {
   "cell_type": "code",
   "execution_count": 8,
   "metadata": {},
   "outputs": [],
   "source": [
    "import pyparsing as pyp\n",
    "from pprint import pprint"
   ]
  },
  {
   "cell_type": "code",
   "execution_count": 2,
   "metadata": {},
   "outputs": [],
   "source": [
    "test_data = \"\"\"d20\n",
    "1d20\n",
    "d 20\n",
    "1 d20\n",
    "1 d 20\n",
    "1d20+1\n",
    "1d20 +1\n",
    "1d20 + 1\n",
    "1d20-1\n",
    "1d20 -1\n",
    "1d20 -1+ 1 -1 -20 and here's some comments about it\n",
    "1d20 +1 adv comments and remarks\n",
    "1d20 +1 Advantage\n",
    "1d20 +1 a\"\"\""
   ]
  },
  {
   "cell_type": "code",
   "execution_count": 19,
   "metadata": {},
   "outputs": [],
   "source": [
    "number = pyp.Combine(pyp.Optional(pyp.Literal('+') | '-') + pyp.Word(pyp.nums))\n",
    "advantage = pyp.Or([pyp.CaselessLiteral(x) for x in \"advantage|adv|a|disadvantage|dis|d\".split(\"|\")])(\"advantage\")\n",
    "comment = pyp.Regex('.*')(\"comment\")\n",
    "roll = (pyp.Optional(number, 1)(\"num\") + pyp.CaselessLiteral('d') + number(\"sides\") \n",
    "        + pyp.ZeroOrMore(number)(\"adjust\") + pyp.Optional(advantage) + pyp.Optional(comment)\n",
    "       )"
   ]
  },
  {
   "cell_type": "code",
   "execution_count": 18,
   "metadata": {},
   "outputs": [
    {
     "name": "stdout",
     "output_type": "stream",
     "text": [
      "{'comment': '', 'num': 1, 'sides': '20'}\n",
      "{'comment': '', 'num': '1', 'sides': '20'}\n",
      "{'comment': '', 'num': 1, 'sides': '20'}\n",
      "{'comment': '', 'num': '1', 'sides': '20'}\n",
      "{'comment': '', 'num': '1', 'sides': '20'}\n",
      "{'adjust': ['+1'], 'comment': '', 'num': '1', 'sides': '20'}\n",
      "{'adjust': ['+1'], 'comment': '', 'num': '1', 'sides': '20'}\n",
      "{'comment': '+ 1', 'num': '1', 'sides': '20'}\n",
      "{'adjust': ['-1'], 'comment': '', 'num': '1', 'sides': '20'}\n",
      "{'adjust': ['-1'], 'comment': '', 'num': '1', 'sides': '20'}\n",
      "{'adjust': ['-1'],\n",
      " 'comment': \"+ 1 -1 -20 and here's some comments about it\",\n",
      " 'num': '1',\n",
      " 'sides': '20'}\n",
      "{'adjust': ['+1'],\n",
      " 'advantage': 'adv',\n",
      " 'comment': 'comments and remarks',\n",
      " 'num': '1',\n",
      " 'sides': '20'}\n",
      "{'adjust': ['+1'],\n",
      " 'advantage': 'advantage',\n",
      " 'comment': '',\n",
      " 'num': '1',\n",
      " 'sides': '20'}\n",
      "{'adjust': ['+1'], 'advantage': 'a', 'comment': '', 'num': '1', 'sides': '20'}\n"
     ]
    }
   ],
   "source": [
    "for case in test_data.split('\\n'):\n",
    "    pprint(roll.parseString(case).asDict())"
   ]
  },
  {
   "cell_type": "code",
   "execution_count": null,
   "metadata": {},
   "outputs": [],
   "source": []
  }
 ],
 "metadata": {
  "kernelspec": {
   "display_name": "Python 3",
   "language": "python",
   "name": "python3"
  },
  "language_info": {
   "codemirror_mode": {
    "name": "ipython",
    "version": 3
   },
   "file_extension": ".py",
   "mimetype": "text/x-python",
   "name": "python",
   "nbconvert_exporter": "python",
   "pygments_lexer": "ipython3",
   "version": "3.7.2"
  }
 },
 "nbformat": 4,
 "nbformat_minor": 2
}
